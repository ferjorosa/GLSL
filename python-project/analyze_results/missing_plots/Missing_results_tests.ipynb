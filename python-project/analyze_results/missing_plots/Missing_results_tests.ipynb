{
 "cells": [
  {
   "cell_type": "markdown",
   "metadata": {},
   "source": [
    "# 1 - Accuracy error\n",
    "\n",
    "Iteramos por los datasets de los directorios de **discrete** y **mixed**, agrupando sus accuracy errors"
   ]
  },
  {
   "cell_type": "code",
   "execution_count": 3,
   "metadata": {},
   "outputs": [],
   "source": [
    "import pandas as pd\n",
    "import json\n",
    "import statistics as stats\n",
    "from os import listdir\n",
    "import numpy as np\n",
    "\n",
    "methods = [\"MEAN\", \"MICE\", \"GLFM\", \"HIVAE\", \"VBSEM\"]\n",
    "max_percentage = 5\n",
    "n_runs = 5\n",
    "directories = [\"../../missing_results/discrete/\"]\n",
    "accuracy_error_dfs = []\n",
    "data_names = [\n",
    "        \"hiv_test\", \n",
    "        \"house_building\", \n",
    "        \"hayes_roth\",\n",
    "        \"balance_scale\", \n",
    "        \"hannover\",\n",
    "        \"somerville\",\n",
    "        \"car_evaluation\",\n",
    "        \"nursery\", \n",
    "        \"breast_cancer\", \n",
    "        \"web_phishing\",\n",
    "        \"solar_flare\",\n",
    "        \"zoo\",\n",
    "        \"vote\", \n",
    "        \"spect_heart\",\n",
    "        \"alarm\"\n",
    "]\n",
    "\n",
    "\n",
    "# Iterate through the missing percentage values, and for each dataset, recover the methods' results\n",
    "for i in range(1, max_percentage):\n",
    "    miss_percentage_string = \"0\" + str(i)\n",
    "\n",
    "    df_error_results = pd.DataFrame()\n",
    "\n",
    "    for data_name in data_names:\n",
    "        error_results = {\"dataset\": data_name}\n",
    "        for method_name in methods:\n",
    "            json_name = data_name + \"_\" + miss_percentage_string + \"_results_\" + method_name + \".json\"\n",
    "            full_path = directory + data_name + \"/\" + json_name\n",
    "            with open(full_path) as json_file:\n",
    "                json_data = json.load(json_file)\n",
    "                runs_data = json_data[\"runs\"]\n",
    "                errors = []\n",
    "                learning_times = []\n",
    "                for i in range(1, n_runs + 1):\n",
    "                    errors.append(1.0 - runs_data[\"run_\" + str(i)][\"accuracy\"]) \n",
    "\n",
    "                avg_error = stats.mean(errors)\n",
    "                stdev_error = stats.stdev(errors)\n",
    "\n",
    "                error_results[method_name] = avg_error\n",
    "\n",
    "        df_error_results = df_error_results.append(error_results, ignore_index=True)\n",
    "\n",
    "    accuracy_error_dfs.append(df_error_results)"
   ]
  },
  {
   "cell_type": "code",
   "execution_count": 4,
   "metadata": {},
   "outputs": [
    {
     "data": {
      "text/html": [
       "<div>\n",
       "<style scoped>\n",
       "    .dataframe tbody tr th:only-of-type {\n",
       "        vertical-align: middle;\n",
       "    }\n",
       "\n",
       "    .dataframe tbody tr th {\n",
       "        vertical-align: top;\n",
       "    }\n",
       "\n",
       "    .dataframe thead th {\n",
       "        text-align: right;\n",
       "    }\n",
       "</style>\n",
       "<table border=\"1\" class=\"dataframe\">\n",
       "  <thead>\n",
       "    <tr style=\"text-align: right;\">\n",
       "      <th></th>\n",
       "      <th>GLFM</th>\n",
       "      <th>HIVAE</th>\n",
       "      <th>MEAN</th>\n",
       "      <th>MICE</th>\n",
       "      <th>VBSEM</th>\n",
       "      <th>dataset</th>\n",
       "    </tr>\n",
       "  </thead>\n",
       "  <tbody>\n",
       "    <tr>\n",
       "      <th>0</th>\n",
       "      <td>0.122807</td>\n",
       "      <td>0.072037</td>\n",
       "      <td>0.418713</td>\n",
       "      <td>0.090058</td>\n",
       "      <td>0.088889</td>\n",
       "      <td>hiv_test</td>\n",
       "    </tr>\n",
       "    <tr>\n",
       "      <th>1</th>\n",
       "      <td>0.503797</td>\n",
       "      <td>0.310659</td>\n",
       "      <td>0.441772</td>\n",
       "      <td>0.285232</td>\n",
       "      <td>0.284810</td>\n",
       "      <td>house_building</td>\n",
       "    </tr>\n",
       "    <tr>\n",
       "      <th>2</th>\n",
       "      <td>0.622500</td>\n",
       "      <td>0.617484</td>\n",
       "      <td>0.672500</td>\n",
       "      <td>0.565000</td>\n",
       "      <td>0.475000</td>\n",
       "      <td>hayes_roth</td>\n",
       "    </tr>\n",
       "    <tr>\n",
       "      <th>3</th>\n",
       "      <td>0.667308</td>\n",
       "      <td>0.498553</td>\n",
       "      <td>0.808974</td>\n",
       "      <td>0.654487</td>\n",
       "      <td>0.589103</td>\n",
       "      <td>balance_scale</td>\n",
       "    </tr>\n",
       "    <tr>\n",
       "      <th>4</th>\n",
       "      <td>0.199274</td>\n",
       "      <td>0.189996</td>\n",
       "      <td>0.207540</td>\n",
       "      <td>0.175202</td>\n",
       "      <td>0.175091</td>\n",
       "      <td>hannover</td>\n",
       "    </tr>\n",
       "    <tr>\n",
       "      <th>5</th>\n",
       "      <td>0.632000</td>\n",
       "      <td>0.530266</td>\n",
       "      <td>0.566000</td>\n",
       "      <td>0.580000</td>\n",
       "      <td>0.544000</td>\n",
       "      <td>somerville</td>\n",
       "    </tr>\n",
       "    <tr>\n",
       "      <th>6</th>\n",
       "      <td>0.591894</td>\n",
       "      <td>0.612227</td>\n",
       "      <td>0.680397</td>\n",
       "      <td>0.604963</td>\n",
       "      <td>0.579322</td>\n",
       "      <td>car_evaluation</td>\n",
       "    </tr>\n",
       "    <tr>\n",
       "      <th>7</th>\n",
       "      <td>0.625257</td>\n",
       "      <td>0.567458</td>\n",
       "      <td>0.691564</td>\n",
       "      <td>0.667061</td>\n",
       "      <td>0.557990</td>\n",
       "      <td>nursery</td>\n",
       "    </tr>\n",
       "    <tr>\n",
       "      <th>8</th>\n",
       "      <td>0.449819</td>\n",
       "      <td>0.379871</td>\n",
       "      <td>0.450542</td>\n",
       "      <td>0.380505</td>\n",
       "      <td>0.373285</td>\n",
       "      <td>breast_cancer</td>\n",
       "    </tr>\n",
       "    <tr>\n",
       "      <th>9</th>\n",
       "      <td>0.413895</td>\n",
       "      <td>0.347323</td>\n",
       "      <td>0.474353</td>\n",
       "      <td>0.419364</td>\n",
       "      <td>0.287509</td>\n",
       "      <td>web_phishing</td>\n",
       "    </tr>\n",
       "    <tr>\n",
       "      <th>10</th>\n",
       "      <td>0.284875</td>\n",
       "      <td>0.190265</td>\n",
       "      <td>0.273463</td>\n",
       "      <td>0.254958</td>\n",
       "      <td>0.179945</td>\n",
       "      <td>solar_flare</td>\n",
       "    </tr>\n",
       "    <tr>\n",
       "      <th>11</th>\n",
       "      <td>0.195322</td>\n",
       "      <td>0.097538</td>\n",
       "      <td>0.316959</td>\n",
       "      <td>0.116959</td>\n",
       "      <td>0.088889</td>\n",
       "      <td>zoo</td>\n",
       "    </tr>\n",
       "    <tr>\n",
       "      <th>12</th>\n",
       "      <td>0.260406</td>\n",
       "      <td>0.191786</td>\n",
       "      <td>0.419289</td>\n",
       "      <td>0.187310</td>\n",
       "      <td>0.206091</td>\n",
       "      <td>vote</td>\n",
       "    </tr>\n",
       "    <tr>\n",
       "      <th>13</th>\n",
       "      <td>0.298371</td>\n",
       "      <td>0.173055</td>\n",
       "      <td>0.308143</td>\n",
       "      <td>0.162541</td>\n",
       "      <td>0.165147</td>\n",
       "      <td>spect_heart</td>\n",
       "    </tr>\n",
       "    <tr>\n",
       "      <th>14</th>\n",
       "      <td>0.201351</td>\n",
       "      <td>0.085031</td>\n",
       "      <td>0.241189</td>\n",
       "      <td>0.072541</td>\n",
       "      <td>0.049189</td>\n",
       "      <td>alarm</td>\n",
       "    </tr>\n",
       "  </tbody>\n",
       "</table>\n",
       "</div>"
      ],
      "text/plain": [
       "        GLFM     HIVAE      MEAN      MICE     VBSEM         dataset\n",
       "0   0.122807  0.072037  0.418713  0.090058  0.088889        hiv_test\n",
       "1   0.503797  0.310659  0.441772  0.285232  0.284810  house_building\n",
       "2   0.622500  0.617484  0.672500  0.565000  0.475000      hayes_roth\n",
       "3   0.667308  0.498553  0.808974  0.654487  0.589103   balance_scale\n",
       "4   0.199274  0.189996  0.207540  0.175202  0.175091        hannover\n",
       "5   0.632000  0.530266  0.566000  0.580000  0.544000      somerville\n",
       "6   0.591894  0.612227  0.680397  0.604963  0.579322  car_evaluation\n",
       "7   0.625257  0.567458  0.691564  0.667061  0.557990         nursery\n",
       "8   0.449819  0.379871  0.450542  0.380505  0.373285   breast_cancer\n",
       "9   0.413895  0.347323  0.474353  0.419364  0.287509    web_phishing\n",
       "10  0.284875  0.190265  0.273463  0.254958  0.179945     solar_flare\n",
       "11  0.195322  0.097538  0.316959  0.116959  0.088889             zoo\n",
       "12  0.260406  0.191786  0.419289  0.187310  0.206091            vote\n",
       "13  0.298371  0.173055  0.308143  0.162541  0.165147     spect_heart\n",
       "14  0.201351  0.085031  0.241189  0.072541  0.049189           alarm"
      ]
     },
     "execution_count": 4,
     "metadata": {},
     "output_type": "execute_result"
    }
   ],
   "source": [
    "accuracy_error_dfs[0]"
   ]
  },
  {
   "cell_type": "markdown",
   "metadata": {},
   "source": [
    "## 1.1 - Average rank table"
   ]
  },
  {
   "cell_type": "code",
   "execution_count": 64,
   "metadata": {},
   "outputs": [
    {
     "data": {
      "text/html": [
       "<div>\n",
       "<style scoped>\n",
       "    .dataframe tbody tr th:only-of-type {\n",
       "        vertical-align: middle;\n",
       "    }\n",
       "\n",
       "    .dataframe tbody tr th {\n",
       "        vertical-align: top;\n",
       "    }\n",
       "\n",
       "    .dataframe thead th {\n",
       "        text-align: right;\n",
       "    }\n",
       "</style>\n",
       "<table border=\"1\" class=\"dataframe\">\n",
       "  <thead>\n",
       "    <tr style=\"text-align: right;\">\n",
       "      <th></th>\n",
       "      <th>MICE</th>\n",
       "      <th>GLFM</th>\n",
       "      <th>HIVAE</th>\n",
       "      <th>VBSEM</th>\n",
       "      <th>miss_percentage</th>\n",
       "    </tr>\n",
       "  </thead>\n",
       "  <tbody>\n",
       "    <tr>\n",
       "      <th>0</th>\n",
       "      <td>2.638889</td>\n",
       "      <td>3.222222</td>\n",
       "      <td>2.083333</td>\n",
       "      <td>2.138889</td>\n",
       "      <td>10%</td>\n",
       "    </tr>\n",
       "    <tr>\n",
       "      <th>1</th>\n",
       "      <td>2.694444</td>\n",
       "      <td>3.361111</td>\n",
       "      <td>1.916667</td>\n",
       "      <td>2.055556</td>\n",
       "      <td>20%</td>\n",
       "    </tr>\n",
       "    <tr>\n",
       "      <th>2</th>\n",
       "      <td>3.138889</td>\n",
       "      <td>3.166667</td>\n",
       "      <td>1.805556</td>\n",
       "      <td>1.888889</td>\n",
       "      <td>30%</td>\n",
       "    </tr>\n",
       "    <tr>\n",
       "      <th>3</th>\n",
       "      <td>3.166667</td>\n",
       "      <td>3.083333</td>\n",
       "      <td>1.888889</td>\n",
       "      <td>1.861111</td>\n",
       "      <td>40%</td>\n",
       "    </tr>\n",
       "    <tr>\n",
       "      <th>4</th>\n",
       "      <td>3.111111</td>\n",
       "      <td>3.222222</td>\n",
       "      <td>1.638889</td>\n",
       "      <td>2.027778</td>\n",
       "      <td>50%</td>\n",
       "    </tr>\n",
       "  </tbody>\n",
       "</table>\n",
       "</div>"
      ],
      "text/plain": [
       "       MICE      GLFM     HIVAE     VBSEM miss_percentage\n",
       "0  2.638889  3.222222  2.083333  2.138889             10%\n",
       "1  2.694444  3.361111  1.916667  2.055556             20%\n",
       "2  3.138889  3.166667  1.805556  1.888889             30%\n",
       "3  3.166667  3.083333  1.888889  1.861111             40%\n",
       "4  3.111111  3.222222  1.638889  2.027778             50%"
      ]
     },
     "execution_count": 64,
     "metadata": {},
     "output_type": "execute_result"
    }
   ],
   "source": [
    "methods_without_MEAN = [\"MICE\", \"GLFM\", \"HIVAE\", \"VBSEM\"]\n",
    "accuracy_error_mean_rank = pd.DataFrame(columns=methods_without_MEAN)\n",
    "error_rank_dfs = []\n",
    "\n",
    "for i in range(0,5):\n",
    "    error_rank_df = accuracy_error_dfs[i][methods_without_MEAN].rank(method=\"max\", axis = 1, ascending = 1)\n",
    "    error_rank_df[\"dataset\"] = accuracy_error_dfs[i][\"dataset\"]\n",
    "    error_rank_dfs.append(error_rank_df)\n",
    "    accuracy_error_mean_rank = accuracy_error_mean_rank.append(error_rank_df[methods_without_MEAN].mean(axis = 0), ignore_index=True)\n",
    "\n",
    "accuracy_error_mean_rank[\"miss_percentage\"] = [str(i)+\"0%\" for i in range(1,6)]\n",
    "accuracy_error_mean_rank"
   ]
  },
  {
   "cell_type": "code",
   "execution_count": null,
   "metadata": {},
   "outputs": [],
   "source": [
    "# Show the rank/error of each method for each dataset for a specific missing percentage\n",
    "#error_rank_dfs[4]\n",
    "#accuracy_error_dfs[0]"
   ]
  },
  {
   "cell_type": "markdown",
   "metadata": {},
   "source": [
    "## 1.2 - Error plot"
   ]
  },
  {
   "cell_type": "markdown",
   "metadata": {},
   "source": [
    "Para generar un bar plot tenemos que combinar los DFs de resultados en uno solo que tenga 4 columnas:\n",
    "* dataset\n",
    "* method\n",
    "* percentage\n",
    "* error_value"
   ]
  },
  {
   "cell_type": "code",
   "execution_count": 74,
   "metadata": {},
   "outputs": [],
   "source": [
    "df_plot = pd.DataFrame(columns=[\"dataset\", \"method\", \"percentage\", \"accuracy_error\"])\n",
    "\n",
    "for percentage in range(0, 5):\n",
    "    df = accuracy_error_dfs[percentage]\n",
    "    percentage_string = str((percentage+1)*10) + \"%\"\n",
    "    for method in methods:\n",
    "        for i in range(len(df)):\n",
    "            row = df.loc[i]\n",
    "            instance = {\"dataset\": row[\"dataset\"]}\n",
    "            instance[\"percentage\"] = percentage_string\n",
    "            instance[\"method\"] = method\n",
    "            instance[\"accuracy_error\"] = row[method]\n",
    "            df_plot = df_plot.append(instance, ignore_index=True)            "
   ]
  },
  {
   "cell_type": "code",
   "execution_count": 100,
   "metadata": {},
   "outputs": [
    {
     "data": {
      "image/png": "[encoded data removed]",
      "text/plain": [
       "<Figure size 1152x720 with 1 Axes>"
      ]
     },
     "metadata": {
      "needs_background": "light"
     },
     "output_type": "display_data"
    }
   ],
   "source": [
    "from matplotlib import pyplot as plt\n",
    "import seaborn as sns\n",
    "\n",
    "fig, ax = plt.subplots(figsize=(16,10))\n",
    "g = sns.boxplot(data=df_plot,x=\"percentage\", y=\"accuracy_error\", hue=\"method\", ax = ax)\n",
    "ax.legend(loc='upper center', bbox_to_anchor=(0.5, 1.10),\n",
    "          ncol=5, fancybox=True, shadow=True)\n",
    "plt.setp(ax.get_legend().get_texts(), fontsize='25') # for legend text\n",
    "plt.setp(ax.get_legend().get_title(), fontsize='0') # for legend title\n",
    "ax.tick_params(axis=\"x\", labelsize=20) # x ticks font size\n",
    "ax.tick_params(axis=\"y\", labelsize=20) # y ticks font size\n",
    "plt.xlabel('Percentage', fontsize=30, labelpad=30)\n",
    "plt.ylabel('Accuracy error', fontsize=30, labelpad=30)\n",
    "\n",
    "plt.savefig('plots/accuracy_error_plot.pdf')  "
   ]
  },
  {
   "cell_type": "code",
   "execution_count": 41,
   "metadata": {},
   "outputs": [
    {
     "data": {
      "image/png": "[encoded data removed]",
      "text/plain": [
       "<Figure size 864x576 with 1 Axes>"
      ]
     },
     "metadata": {
      "needs_background": "light"
     },
     "output_type": "display_data"
    }
   ],
   "source": [
    "from matplotlib import pyplot as plt\n",
    "import seaborn as sns\n",
    "\n",
    "fig, ax = plt.subplots(figsize=(12,8))\n",
    "g = sns.lineplot(data=df_plot,x=\"percentage\", y=\"accuracy_error\", hue=\"method\", ax = ax)\n",
    "plt.xlabel('Percentage', fontsize=14)\n",
    "ylabel = plt.ylabel('Accuracy error', fontsize=14)"
   ]
  },
  {
   "cell_type": "markdown",
   "metadata": {},
   "source": [
    "## 1.3 - Nemenyi tests"
   ]
  },
  {
   "cell_type": "code",
   "execution_count": 72,
   "metadata": {},
   "outputs": [
    {
     "name": "stdout",
     "output_type": "stream",
     "text": [
      "Missing percentage: 10%\n"
     ]
    },
    {
     "data": {
      "image/png": "[encoded data removed]",
      "text/plain": [
       "<Figure size 432x118.8 with 1 Axes>"
      ]
     },
     "metadata": {},
     "output_type": "display_data"
    },
    {
     "name": "stdout",
     "output_type": "stream",
     "text": [
      "Missing percentage: 20%\n"
     ]
    },
    {
     "data": {
      "image/png": "[encoded data removed]",
      "text/plain": [
       "<Figure size 432x118.8 with 1 Axes>"
      ]
     },
     "metadata": {},
     "output_type": "display_data"
    },
    {
     "name": "stdout",
     "output_type": "stream",
     "text": [
      "Missing percentage: 30%\n"
     ]
    },
    {
     "data": {
      "image/png": "[encoded data removed]",
      "text/plain": [
       "<Figure size 432x118.8 with 1 Axes>"
      ]
     },
     "metadata": {},
     "output_type": "display_data"
    },
    {
     "name": "stdout",
     "output_type": "stream",
     "text": [
      "Missing percentage: 40%\n"
     ]
    },
    {
     "data": {
      "image/png": "[encoded data removed]",
      "text/plain": [
       "<Figure size 432x118.8 with 1 Axes>"
      ]
     },
     "metadata": {},
     "output_type": "display_data"
    },
    {
     "name": "stdout",
     "output_type": "stream",
     "text": [
      "Missing percentage: 50%\n"
     ]
    },
    {
     "data": {
      "image/png": "[encoded data removed]",
      "text/plain": [
       "<Figure size 432x118.8 with 1 Axes>"
      ]
     },
     "metadata": {},
     "output_type": "display_data"
    }
   ],
   "source": [
    "import Orange\n",
    "import matplotlib.pyplot as plt\n",
    "\n",
    "n_datasets = accuracy_error_dfs[0].shape[0]\n",
    "\n",
    "for i in range(0, accuracy_error_mean_rank.shape[0]):\n",
    "    avranks = accuracy_error_mean_rank[methods_without_MEAN].iloc[i].values\n",
    "    cd = Orange.evaluation.compute_CD(avranks, n_datasets) #tested on 30 datasets\n",
    "    Orange.evaluation.graph_ranks(avranks, methods_without_MEAN, cd=cd,width=6, textspace=1.5)\n",
    "    print(\"Missing percentage: \" + str(accuracy_error_mean_rank[\"miss_percentage\"].iloc[i]))\n",
    "    plt.savefig('plots/accuracy_error_' + str(accuracy_error_mean_rank[\"miss_percentage\"].iloc[i]).replace(\"%\", \"\") + '.svg')  \n",
    "    plt.show()"
   ]
  },
  {
   "cell_type": "markdown",
   "metadata": {},
   "source": [
    "# 2 - NRMSE\n",
    "\n",
    "Iteramos por los datasets de los directorios de **continuous** y **mixed**, agrupando sus nrmses"
   ]
  },
  {
   "cell_type": "code",
   "execution_count": 59,
   "metadata": {},
   "outputs": [],
   "source": [
    "import pandas as pd\n",
    "import json\n",
    "import statistics as stats\n",
    "from os import listdir\n",
    "import numpy as np\n",
    "\n",
    "methods = [\"MEAN\", \"MICE\", \"GLFM\", \"HIVAE\", \"VBSEM\"]\n",
    "max_percentage = 6\n",
    "n_runs = 5\n",
    "directories = [\"selected_results/continuous/\", \"selected_results/mixed/\"]\n",
    "nrmse_dfs = []\n",
    "\n",
    "\n",
    "# Iterate through the missing percentage values, and for each dataset, recover the methods' results\n",
    "for i in range(1, max_percentage):\n",
    "    miss_percentage_string = \"0\" + str(i)\n",
    "    df_error_results = pd.DataFrame()\n",
    "\n",
    "    for directory in directories:\n",
    "        data_names = [file_name for file_name in listdir(directory)]\n",
    "\n",
    "        for data_name in data_names:\n",
    "            error_results = {\"dataset\": data_name}\n",
    "            \n",
    "            for method_name in methods:\n",
    "                json_name = data_name + \"_\" + miss_percentage_string + \"_results_\" + method_name + \".json\"\n",
    "                full_path = directory + data_name + \"/\" + json_name\n",
    "                \n",
    "                with open(full_path) as json_file:\n",
    "                    json_data = json.load(json_file)\n",
    "                    runs_data = json_data[\"runs\"]\n",
    "                    errors = []\n",
    "                    learning_times = []\n",
    "                    for i in range(1, n_runs + 1):\n",
    "                        errors.append(runs_data[\"run_\" + str(i)][\"nrmse\"]) \n",
    "\n",
    "                    avg_error = stats.mean(errors)\n",
    "                    stdev_error = stats.stdev(errors)\n",
    "\n",
    "                    error_results[method_name] = avg_error\n",
    "\n",
    "            df_error_results = df_error_results.append(error_results, ignore_index=True)\n",
    "\n",
    "    nrmse_dfs.append(df_error_results)"
   ]
  },
  {
   "cell_type": "markdown",
   "metadata": {},
   "source": [
    "## 2.1 - Average rank table"
   ]
  },
  {
   "cell_type": "code",
   "execution_count": 60,
   "metadata": {},
   "outputs": [
    {
     "data": {
      "text/html": [
       "<div>\n",
       "<style scoped>\n",
       "    .dataframe tbody tr th:only-of-type {\n",
       "        vertical-align: middle;\n",
       "    }\n",
       "\n",
       "    .dataframe tbody tr th {\n",
       "        vertical-align: top;\n",
       "    }\n",
       "\n",
       "    .dataframe thead th {\n",
       "        text-align: right;\n",
       "    }\n",
       "</style>\n",
       "<table border=\"1\" class=\"dataframe\">\n",
       "  <thead>\n",
       "    <tr style=\"text-align: right;\">\n",
       "      <th></th>\n",
       "      <th>MICE</th>\n",
       "      <th>GLFM</th>\n",
       "      <th>HIVAE</th>\n",
       "      <th>VBSEM</th>\n",
       "      <th>miss_percentage</th>\n",
       "    </tr>\n",
       "  </thead>\n",
       "  <tbody>\n",
       "    <tr>\n",
       "      <th>0</th>\n",
       "      <td>1.357143</td>\n",
       "      <td>3.642857</td>\n",
       "      <td>2.535714</td>\n",
       "      <td>2.464286</td>\n",
       "      <td>10%</td>\n",
       "    </tr>\n",
       "    <tr>\n",
       "      <th>1</th>\n",
       "      <td>1.500000</td>\n",
       "      <td>3.500000</td>\n",
       "      <td>2.678571</td>\n",
       "      <td>2.321429</td>\n",
       "      <td>20%</td>\n",
       "    </tr>\n",
       "    <tr>\n",
       "      <th>2</th>\n",
       "      <td>1.607143</td>\n",
       "      <td>3.464286</td>\n",
       "      <td>2.678571</td>\n",
       "      <td>2.250000</td>\n",
       "      <td>30%</td>\n",
       "    </tr>\n",
       "    <tr>\n",
       "      <th>3</th>\n",
       "      <td>1.964286</td>\n",
       "      <td>3.464286</td>\n",
       "      <td>2.357143</td>\n",
       "      <td>2.214286</td>\n",
       "      <td>40%</td>\n",
       "    </tr>\n",
       "    <tr>\n",
       "      <th>4</th>\n",
       "      <td>2.000000</td>\n",
       "      <td>3.535714</td>\n",
       "      <td>2.428571</td>\n",
       "      <td>2.035714</td>\n",
       "      <td>50%</td>\n",
       "    </tr>\n",
       "  </tbody>\n",
       "</table>\n",
       "</div>"
      ],
      "text/plain": [
       "       MICE      GLFM     HIVAE     VBSEM miss_percentage\n",
       "0  1.357143  3.642857  2.535714  2.464286             10%\n",
       "1  1.500000  3.500000  2.678571  2.321429             20%\n",
       "2  1.607143  3.464286  2.678571  2.250000             30%\n",
       "3  1.964286  3.464286  2.357143  2.214286             40%\n",
       "4  2.000000  3.535714  2.428571  2.035714             50%"
      ]
     },
     "execution_count": 60,
     "metadata": {},
     "output_type": "execute_result"
    }
   ],
   "source": [
    "methods_without_MEAN = [\"MICE\", \"GLFM\", \"HIVAE\", \"VBSEM\"]\n",
    "nrmse_mean_rank = pd.DataFrame(columns=methods_without_MEAN)\n",
    "error_rank_dfs = []\n",
    "\n",
    "for i in range(0,5):\n",
    "    error_rank_df = nrmse_dfs[i][methods_without_MEAN].rank(method=\"max\", axis = 1, ascending = 1)\n",
    "    error_rank_df[\"dataset\"] = nrmse_dfs[i][\"dataset\"]\n",
    "    error_rank_dfs.append(error_rank_df)\n",
    "    nrmse_mean_rank = nrmse_mean_rank.append(error_rank_df[methods_without_MEAN].mean(axis = 0), ignore_index=True)\n",
    "\n",
    "nrmse_mean_rank[\"miss_percentage\"] = [str(i)+\"0%\" for i in range(1,6)]\n",
    "nrmse_mean_rank"
   ]
  },
  {
   "cell_type": "code",
   "execution_count": null,
   "metadata": {},
   "outputs": [],
   "source": [
    "# Show the rank/error of each method for each dataset for a specific missing percentage\n",
    "#error_rank_dfs[4]\n",
    "#nrmse_dfs[0]"
   ]
  },
  {
   "cell_type": "markdown",
   "metadata": {},
   "source": [
    "## 2.2 - Error plots"
   ]
  },
  {
   "cell_type": "code",
   "execution_count": 101,
   "metadata": {},
   "outputs": [],
   "source": [
    "df_plot = pd.DataFrame(columns=[\"dataset\", \"method\", \"percentage\", \"NRMSE\"])\n",
    "\n",
    "for percentage in range(0, 5):\n",
    "    df = nrmse_dfs[percentage]\n",
    "    percentage_string = str((percentage+1)*10) + \"%\"\n",
    "    for method in methods:\n",
    "        for i in range(len(df)):\n",
    "            row = df.loc[i]\n",
    "            instance = {\"dataset\": row[\"dataset\"]}\n",
    "            instance[\"percentage\"] = percentage_string\n",
    "            instance[\"method\"] = method\n",
    "            instance[\"NRMSE\"] = row[method]\n",
    "            df_plot = df_plot.append(instance, ignore_index=True)"
   ]
  },
  {
   "cell_type": "code",
   "execution_count": 102,
   "metadata": {},
   "outputs": [
    {
     "data": {
      "image/png": "[encoded data removed]",
      "text/plain": [
       "<Figure size 1152x720 with 1 Axes>"
      ]
     },
     "metadata": {
      "needs_background": "light"
     },
     "output_type": "display_data"
    }
   ],
   "source": [
    "from matplotlib import pyplot as plt\n",
    "import seaborn as sns\n",
    "\n",
    "fig, ax = plt.subplots(figsize=(16,10))\n",
    "g = sns.boxplot(data=df_plot,x=\"percentage\", y=\"NRMSE\", hue=\"method\", ax = ax)\n",
    "ax.legend(loc='upper center', bbox_to_anchor=(0.5, 1.10),\n",
    "          ncol=5, fancybox=True, shadow=True)\n",
    "plt.setp(ax.get_legend().get_texts(), fontsize='25') # for legend text\n",
    "plt.setp(ax.get_legend().get_title(), fontsize='0') # for legend title\n",
    "ax.tick_params(axis=\"x\", labelsize=20) # x ticks font size\n",
    "ax.tick_params(axis=\"y\", labelsize=20) # y ticks font size\n",
    "plt.xlabel('Percentage', fontsize=30, labelpad=30)\n",
    "plt.ylabel('NRMSE', fontsize=30, labelpad=30)\n",
    "\n",
    "plt.savefig('plots/nrmse_plot.pdf')  "
   ]
  },
  {
   "cell_type": "code",
   "execution_count": null,
   "metadata": {},
   "outputs": [],
   "source": []
  },
  {
   "cell_type": "markdown",
   "metadata": {},
   "source": [
    "## 2.3 - Nemenyi tests"
   ]
  },
  {
   "cell_type": "code",
   "execution_count": 29,
   "metadata": {},
   "outputs": [
    {
     "name": "stdout",
     "output_type": "stream",
     "text": [
      "Missing percentage: 10%\n"
     ]
    },
    {
     "data": {
      "image/png": "[encoded data removed]",
      "text/plain": [
       "<Figure size 432x111.6 with 1 Axes>"
      ]
     },
     "metadata": {},
     "output_type": "display_data"
    },
    {
     "name": "stdout",
     "output_type": "stream",
     "text": [
      "Missing percentage: 20%\n"
     ]
    },
    {
     "data": {
      "image/png": "[encoded data removed]",
      "text/plain": [
       "<Figure size 432x126 with 1 Axes>"
      ]
     },
     "metadata": {},
     "output_type": "display_data"
    },
    {
     "name": "stdout",
     "output_type": "stream",
     "text": [
      "Missing percentage: 30%\n"
     ]
    },
    {
     "data": {
      "image/png": "[encoded data removed]",
      "text/plain": [
       "<Figure size 432x126 with 1 Axes>"
      ]
     },
     "metadata": {},
     "output_type": "display_data"
    },
    {
     "name": "stdout",
     "output_type": "stream",
     "text": [
      "Missing percentage: 40%\n"
     ]
    },
    {
     "data": {
      "image/png": "[encoded data removed]",
      "text/plain": [
       "<Figure size 432x111.6 with 1 Axes>"
      ]
     },
     "metadata": {},
     "output_type": "display_data"
    },
    {
     "name": "stdout",
     "output_type": "stream",
     "text": [
      "Missing percentage: 50%\n"
     ]
    },
    {
     "data": {
      "image/png": "[encoded data removed]",
      "text/plain": [
       "<Figure size 432x111.6 with 1 Axes>"
      ]
     },
     "metadata": {},
     "output_type": "display_data"
    }
   ],
   "source": [
    "import Orange\n",
    "import matplotlib.pyplot as plt\n",
    "\n",
    "n_datasets = nrmse_dfs[0].shape[0]\n",
    "\n",
    "for i in range(0, nrmse_mean_rank.shape[0]):\n",
    "    avranks = nrmse_mean_rank[methods_without_MEAN].iloc[i].values\n",
    "    cd = Orange.evaluation.compute_CD(avranks, n_datasets) #tested on 30 datasets\n",
    "    Orange.evaluation.graph_ranks(avranks, methods_without_MEAN, cd=cd, width=6, textspace=1.5)   \n",
    "    print(\"Missing percentage: \" + str(nrmse_mean_rank[\"miss_percentage\"].iloc[i]))\n",
    "    plt.savefig('plots/nrmse_' + str(nrmse_mean_rank[\"miss_percentage\"].iloc[i]).replace(\"%\", \"\") + '.pdf')  \n",
    "    plt.show()"
   ]
  },
  {
   "cell_type": "markdown",
   "metadata": {},
   "source": [
    "# 3 - Average error\n",
    "\n",
    "Iteramos por los directorios de **discrete**, **continuous** y **mixed**, agrupando sus errores como average_error"
   ]
  },
  {
   "cell_type": "code",
   "execution_count": 55,
   "metadata": {},
   "outputs": [],
   "source": [
    "import pandas as pd\n",
    "import json\n",
    "import statistics as stats\n",
    "from os import listdir\n",
    "import numpy as np\n",
    "\n",
    "methods = [\"MEAN\", \"MICE\", \"GLFM\", \"HIVAE\", \"VBSEM\"]\n",
    "max_percentage = 6\n",
    "n_runs = 5\n",
    "directories = [\"selected_results/discrete/\", \"selected_results/continuous/\", \"selected_results/mixed/\"]\n",
    "average_error_dfs = []\n",
    "\n",
    "# Iterate through the missing percentage values, and for each dataset, recover the methods' results\n",
    "for i in range(1, max_percentage):\n",
    "    miss_percentage_string = \"0\" + str(i)\n",
    "\n",
    "    df_error_results = pd.DataFrame()\n",
    "\n",
    "    for directory in directories:       \n",
    "        data_names = [file_name for file_name in listdir(directory)]\n",
    "\n",
    "        for data_name in data_names:\n",
    "            error_results = {\"dataset\": data_name}\n",
    "            \n",
    "            for method_name in methods:\n",
    "                json_name = data_name + \"_\" + miss_percentage_string + \"_results_\" + method_name + \".json\"\n",
    "                full_path = directory + data_name + \"/\" + json_name\n",
    "                with open(full_path) as json_file:\n",
    "                    json_data = json.load(json_file)\n",
    "                    runs_data = json_data[\"runs\"]\n",
    "                    errors = []\n",
    "                    learning_times = []\n",
    "                    for i in range(1, n_runs + 1):\n",
    "                        if directory == \"selected_results/discrete/\":\n",
    "                            errors.append(1.0 - runs_data[\"run_\" + str(i)][\"accuracy\"])\n",
    "                        elif directory == \"selected_results/continuous/\":\n",
    "                            errors.append(runs_data[\"run_\" + str(i)][\"nrmse\"])\n",
    "                        else:\n",
    "                            errors.append(runs_data[\"run_\" + str(i)][\"average_error\"])\n",
    "\n",
    "                    avg_error = stats.mean(errors)\n",
    "                    stdev_error = stats.stdev(errors)\n",
    "\n",
    "                    error_results[method_name] = avg_error\n",
    "\n",
    "            df_error_results = df_error_results.append(error_results, ignore_index=True)\n",
    "\n",
    "    average_error_dfs.append(df_error_results)"
   ]
  },
  {
   "cell_type": "markdown",
   "metadata": {},
   "source": [
    "## 3.1 - Average rank table"
   ]
  },
  {
   "cell_type": "code",
   "execution_count": 56,
   "metadata": {},
   "outputs": [
    {
     "data": {
      "text/html": [
       "<div>\n",
       "<style scoped>\n",
       "    .dataframe tbody tr th:only-of-type {\n",
       "        vertical-align: middle;\n",
       "    }\n",
       "\n",
       "    .dataframe tbody tr th {\n",
       "        vertical-align: top;\n",
       "    }\n",
       "\n",
       "    .dataframe thead th {\n",
       "        text-align: right;\n",
       "    }\n",
       "</style>\n",
       "<table border=\"1\" class=\"dataframe\">\n",
       "  <thead>\n",
       "    <tr style=\"text-align: right;\">\n",
       "      <th></th>\n",
       "      <th>MICE</th>\n",
       "      <th>GLFM</th>\n",
       "      <th>HIVAE</th>\n",
       "      <th>VBSEM</th>\n",
       "      <th>miss_percentage</th>\n",
       "    </tr>\n",
       "  </thead>\n",
       "  <tbody>\n",
       "    <tr>\n",
       "      <th>0</th>\n",
       "      <td>1.911111</td>\n",
       "      <td>3.555556</td>\n",
       "      <td>2.244444</td>\n",
       "      <td>2.288889</td>\n",
       "      <td>10%</td>\n",
       "    </tr>\n",
       "    <tr>\n",
       "      <th>1</th>\n",
       "      <td>2.066667</td>\n",
       "      <td>3.444444</td>\n",
       "      <td>2.288889</td>\n",
       "      <td>2.200000</td>\n",
       "      <td>20%</td>\n",
       "    </tr>\n",
       "    <tr>\n",
       "      <th>2</th>\n",
       "      <td>2.422222</td>\n",
       "      <td>3.311111</td>\n",
       "      <td>2.200000</td>\n",
       "      <td>2.066667</td>\n",
       "      <td>30%</td>\n",
       "    </tr>\n",
       "    <tr>\n",
       "      <th>3</th>\n",
       "      <td>2.622222</td>\n",
       "      <td>3.333333</td>\n",
       "      <td>2.111111</td>\n",
       "      <td>1.933333</td>\n",
       "      <td>40%</td>\n",
       "    </tr>\n",
       "    <tr>\n",
       "      <th>4</th>\n",
       "      <td>2.511111</td>\n",
       "      <td>3.466667</td>\n",
       "      <td>1.933333</td>\n",
       "      <td>2.088889</td>\n",
       "      <td>50%</td>\n",
       "    </tr>\n",
       "  </tbody>\n",
       "</table>\n",
       "</div>"
      ],
      "text/plain": [
       "       MICE      GLFM     HIVAE     VBSEM miss_percentage\n",
       "0  1.911111  3.555556  2.244444  2.288889             10%\n",
       "1  2.066667  3.444444  2.288889  2.200000             20%\n",
       "2  2.422222  3.311111  2.200000  2.066667             30%\n",
       "3  2.622222  3.333333  2.111111  1.933333             40%\n",
       "4  2.511111  3.466667  1.933333  2.088889             50%"
      ]
     },
     "execution_count": 56,
     "metadata": {},
     "output_type": "execute_result"
    }
   ],
   "source": [
    "methods_without_MEAN = [\"MICE\", \"GLFM\", \"HIVAE\", \"VBSEM\"]\n",
    "average_error_mean_rank = pd.DataFrame(columns=methods_without_MEAN)\n",
    "error_rank_dfs = []\n",
    "\n",
    "for i in range(0,5):\n",
    "    error_rank_df = average_error_dfs[i][methods_without_MEAN].rank(method=\"max\", axis = 1, ascending = 1)\n",
    "    error_rank_df[\"dataset\"] = average_error_dfs[i][\"dataset\"]\n",
    "    error_rank_dfs.append(error_rank_df)\n",
    "    average_error_mean_rank = average_error_mean_rank.append(error_rank_df[methods_without_MEAN].mean(axis = 0), ignore_index=True)\n",
    "\n",
    "average_error_mean_rank[\"miss_percentage\"] = [str(i)+\"0%\" for i in range(1,6)]\n",
    "average_error_mean_rank"
   ]
  },
  {
   "cell_type": "code",
   "execution_count": 13,
   "metadata": {},
   "outputs": [],
   "source": [
    "# Show the rank/error of each method for each dataset for a specific missing percentage\n",
    "#error_rank_dfs[4]\n",
    "#average_error_dfs[0]"
   ]
  },
  {
   "cell_type": "markdown",
   "metadata": {},
   "source": [
    "## 3.2 - Error plots"
   ]
  },
  {
   "cell_type": "code",
   "execution_count": 104,
   "metadata": {},
   "outputs": [],
   "source": [
    "df_plot = pd.DataFrame(columns=[\"dataset\", \"method\", \"percentage\", \"AvgErr\"])\n",
    "\n",
    "for percentage in range(0, 5):\n",
    "    df = average_error_dfs[percentage]\n",
    "    percentage_string = str((percentage+1)*10) + \"%\"\n",
    "    for method in methods:\n",
    "        for i in range(len(df)):\n",
    "            row = df.loc[i]\n",
    "            instance = {\"dataset\": row[\"dataset\"]}\n",
    "            instance[\"percentage\"] = percentage_string\n",
    "            instance[\"method\"] = method\n",
    "            instance[\"AvgErr\"] = row[method]\n",
    "            df_plot = df_plot.append(instance, ignore_index=True)"
   ]
  },
  {
   "cell_type": "code",
   "execution_count": 105,
   "metadata": {},
   "outputs": [
    {
     "data": {
      "image/png": "[encoded data removed]",
      "text/plain": [
       "<Figure size 1152x720 with 1 Axes>"
      ]
     },
     "metadata": {
      "needs_background": "light"
     },
     "output_type": "display_data"
    }
   ],
   "source": [
    "from matplotlib import pyplot as plt\n",
    "import seaborn as sns\n",
    "\n",
    "fig, ax = plt.subplots(figsize=(16,10))\n",
    "g = sns.boxplot(data=df_plot,x=\"percentage\", y=\"AvgErr\", hue=\"method\", ax = ax)\n",
    "ax.legend(loc='upper center', bbox_to_anchor=(0.5, 1.10),\n",
    "          ncol=5, fancybox=True, shadow=True)\n",
    "plt.setp(ax.get_legend().get_texts(), fontsize='25') # for legend text\n",
    "plt.setp(ax.get_legend().get_title(), fontsize='0') # for legend title\n",
    "ax.tick_params(axis=\"x\", labelsize=20) # x ticks font size\n",
    "ax.tick_params(axis=\"y\", labelsize=20) # y ticks font size\n",
    "plt.xlabel('Percentage', fontsize=30, labelpad=30)\n",
    "plt.ylabel('Average error', fontsize=30, labelpad=30)\n",
    "\n",
    "plt.savefig('plots/average_error_plot.pdf')  "
   ]
  },
  {
   "cell_type": "markdown",
   "metadata": {},
   "source": [
    "## 3.3 - Nemenyi tests"
   ]
  },
  {
   "cell_type": "code",
   "execution_count": 32,
   "metadata": {},
   "outputs": [
    {
     "name": "stdout",
     "output_type": "stream",
     "text": [
      "Missing percentage: 10%\n"
     ]
    },
    {
     "data": {
      "image/png": "[encoded data removed]",
      "text/plain": [
       "<Figure size 432x111.6 with 1 Axes>"
      ]
     },
     "metadata": {},
     "output_type": "display_data"
    },
    {
     "name": "stdout",
     "output_type": "stream",
     "text": [
      "Missing percentage: 20%\n"
     ]
    },
    {
     "data": {
      "image/png": "[encoded data removed]",
      "text/plain": [
       "<Figure size 432x111.6 with 1 Axes>"
      ]
     },
     "metadata": {},
     "output_type": "display_data"
    },
    {
     "name": "stdout",
     "output_type": "stream",
     "text": [
      "Missing percentage: 30%\n"
     ]
    },
    {
     "data": {
      "image/png": "[encoded data removed]",
      "text/plain": [
       "<Figure size 432x111.6 with 1 Axes>"
      ]
     },
     "metadata": {},
     "output_type": "display_data"
    },
    {
     "name": "stdout",
     "output_type": "stream",
     "text": [
      "Missing percentage: 40%\n"
     ]
    },
    {
     "data": {
      "image/png": "[encoded data removed]",
      "text/plain": [
       "<Figure size 432x111.6 with 1 Axes>"
      ]
     },
     "metadata": {},
     "output_type": "display_data"
    },
    {
     "name": "stdout",
     "output_type": "stream",
     "text": [
      "Missing percentage: 50%\n"
     ]
    },
    {
     "data": {
      "image/png": "[encoded data removed]",
      "text/plain": [
       "<Figure size 432x111.6 with 1 Axes>"
      ]
     },
     "metadata": {},
     "output_type": "display_data"
    }
   ],
   "source": [
    "import Orange\n",
    "import matplotlib.pyplot as plt\n",
    "\n",
    "n_datasets = average_error_dfs[0].shape[0]\n",
    "\n",
    "for i in range(0, average_error_mean_rank.shape[0]):\n",
    "    avranks = average_error_mean_rank[methods_without_MEAN].iloc[i].values\n",
    "    cd = Orange.evaluation.compute_CD(avranks, n_datasets) #tested on 30 datasets\n",
    "    Orange.evaluation.graph_ranks(avranks, methods_without_MEAN, cd=cd, width=6, textspace=1.5)\n",
    "    print(\"Missing percentage: \" + str(average_error_mean_rank[\"miss_percentage\"].iloc[i]))\n",
    "    plt.savefig('plots/average_error_' + str(average_error_mean_rank[\"miss_percentage\"].iloc[i]).replace(\"%\", \"\") + '.pdf')  \n",
    "    plt.show()"
   ]
  },
  {
   "cell_type": "markdown",
   "metadata": {},
   "source": [
    "# 4 - Learning time\n",
    "\n",
    "Iteramos por los directorios de **discrete**, **continuous** y **mixed**, agrupando sus tiempos de ejecucion"
   ]
  },
  {
   "cell_type": "code",
   "execution_count": 17,
   "metadata": {},
   "outputs": [],
   "source": [
    "import pandas as pd\n",
    "import json\n",
    "import statistics as stats\n",
    "from os import listdir\n",
    "import numpy as np\n",
    "\n",
    "methods = [\"MEAN\", \"GLFM\", \"HIVAE\", \"MICE\", \"VBSEM\"]\n",
    "max_percentage = 6\n",
    "n_runs = 5\n",
    "directories = [\"selected_results/discrete/\", \"selected_results/continuous/\", \"selected_results/mixed/\"]\n",
    "time_dfs = []\n",
    "\n",
    "\n",
    "# Iterate through the missing percentage values, and for each dataset, recover the methods' results\n",
    "for i in range(1, max_percentage):\n",
    "    miss_percentage_string = \"0\" + str(i)\n",
    "\n",
    "    df_time_results = pd.DataFrame()\n",
    "\n",
    "    for directory in directories:\n",
    "        data_names = [file_name for file_name in listdir(directory)]\n",
    "\n",
    "        for data_name in data_names:\n",
    "            time_results = {\"dataset\": data_name}\n",
    "            for method_name in methods:\n",
    "                json_name = data_name + \"_\" + miss_percentage_string + \"_results_\" + method_name + \".json\"\n",
    "                full_path = directory + data_name + \"/\" + json_name\n",
    "                with open(full_path) as json_file:\n",
    "                    json_data = json.load(json_file)\n",
    "                    runs_data = json_data[\"runs\"]\n",
    "                    learning_times = []\n",
    "                    for i in range(1, n_runs + 1):\n",
    "                        learning_times.append(runs_data[\"run_\" + str(i)][\"learning_time\"]) \n",
    "\n",
    "                    avg_learning_time = stats.mean(learning_times) / 1000\n",
    "                    stdev_learning_time = stats.stdev(learning_times) / 1000\n",
    "\n",
    "                    time_results[method_name] = avg_learning_time\n",
    "\n",
    "            df_time_results = df_time_results.append(time_results, ignore_index=True)\n",
    "\n",
    "    time_dfs.append(df_time_results)"
   ]
  },
  {
   "cell_type": "markdown",
   "metadata": {},
   "source": [
    "## 4.1 -Average rank table"
   ]
  },
  {
   "cell_type": "code",
   "execution_count": 18,
   "metadata": {},
   "outputs": [
    {
     "data": {
      "text/html": [
       "<div>\n",
       "<style scoped>\n",
       "    .dataframe tbody tr th:only-of-type {\n",
       "        vertical-align: middle;\n",
       "    }\n",
       "\n",
       "    .dataframe tbody tr th {\n",
       "        vertical-align: top;\n",
       "    }\n",
       "\n",
       "    .dataframe thead th {\n",
       "        text-align: right;\n",
       "    }\n",
       "</style>\n",
       "<table border=\"1\" class=\"dataframe\">\n",
       "  <thead>\n",
       "    <tr style=\"text-align: right;\">\n",
       "      <th></th>\n",
       "      <th>MICE</th>\n",
       "      <th>GLFM</th>\n",
       "      <th>HIVAE</th>\n",
       "      <th>VBSEM</th>\n",
       "      <th>miss_percentage</th>\n",
       "    </tr>\n",
       "  </thead>\n",
       "  <tbody>\n",
       "    <tr>\n",
       "      <th>0</th>\n",
       "      <td>1.0</td>\n",
       "      <td>3.288889</td>\n",
       "      <td>3.066667</td>\n",
       "      <td>2.644444</td>\n",
       "      <td>10%</td>\n",
       "    </tr>\n",
       "    <tr>\n",
       "      <th>1</th>\n",
       "      <td>1.0</td>\n",
       "      <td>3.222222</td>\n",
       "      <td>3.044444</td>\n",
       "      <td>2.733333</td>\n",
       "      <td>20%</td>\n",
       "    </tr>\n",
       "    <tr>\n",
       "      <th>2</th>\n",
       "      <td>1.0</td>\n",
       "      <td>3.155556</td>\n",
       "      <td>3.133333</td>\n",
       "      <td>2.711111</td>\n",
       "      <td>30%</td>\n",
       "    </tr>\n",
       "    <tr>\n",
       "      <th>3</th>\n",
       "      <td>1.0</td>\n",
       "      <td>3.155556</td>\n",
       "      <td>3.111111</td>\n",
       "      <td>2.733333</td>\n",
       "      <td>40%</td>\n",
       "    </tr>\n",
       "    <tr>\n",
       "      <th>4</th>\n",
       "      <td>1.0</td>\n",
       "      <td>3.133333</td>\n",
       "      <td>3.111111</td>\n",
       "      <td>2.755556</td>\n",
       "      <td>50%</td>\n",
       "    </tr>\n",
       "  </tbody>\n",
       "</table>\n",
       "</div>"
      ],
      "text/plain": [
       "   MICE      GLFM     HIVAE     VBSEM miss_percentage\n",
       "0   1.0  3.288889  3.066667  2.644444             10%\n",
       "1   1.0  3.222222  3.044444  2.733333             20%\n",
       "2   1.0  3.155556  3.133333  2.711111             30%\n",
       "3   1.0  3.155556  3.111111  2.733333             40%\n",
       "4   1.0  3.133333  3.111111  2.755556             50%"
      ]
     },
     "execution_count": 18,
     "metadata": {},
     "output_type": "execute_result"
    }
   ],
   "source": [
    "methods_without_MEAN = [\"MICE\", \"GLFM\", \"HIVAE\", \"VBSEM\"]\n",
    "time_mean_rank = pd.DataFrame(columns=methods_without_MEAN)\n",
    "\n",
    "for i in range(0,5):\n",
    "    time_rank_df = time_dfs[i][methods_without_MEAN].rank(method=\"max\", axis = 1, ascending = 1)\n",
    "    time_mean_rank = time_mean_rank.append(time_rank_df.mean(axis = 0), ignore_index=True)\n",
    "\n",
    "time_mean_rank[\"miss_percentage\"] = [str(i)+\"0%\" for i in range(1,6)]\n",
    "time_mean_rank"
   ]
  },
  {
   "cell_type": "markdown",
   "metadata": {},
   "source": [
    "## 4.2 - Nemenyi tests"
   ]
  },
  {
   "cell_type": "code",
   "execution_count": 31,
   "metadata": {},
   "outputs": [
    {
     "name": "stdout",
     "output_type": "stream",
     "text": [
      "Missing percentage: 10%\n"
     ]
    },
    {
     "data": {
      "image/png": "[encoded data removed]",
      "text/plain": [
       "<Figure size 432x111.6 with 1 Axes>"
      ]
     },
     "metadata": {},
     "output_type": "display_data"
    },
    {
     "name": "stdout",
     "output_type": "stream",
     "text": [
      "Missing percentage: 20%\n"
     ]
    },
    {
     "data": {
      "image/png": "[encoded data removed]",
      "text/plain": [
       "<Figure size 432x111.6 with 1 Axes>"
      ]
     },
     "metadata": {},
     "output_type": "display_data"
    },
    {
     "name": "stdout",
     "output_type": "stream",
     "text": [
      "Missing percentage: 30%\n"
     ]
    },
    {
     "data": {
      "image/png": "[encoded data removed]",
      "text/plain": [
       "<Figure size 432x111.6 with 1 Axes>"
      ]
     },
     "metadata": {},
     "output_type": "display_data"
    },
    {
     "name": "stdout",
     "output_type": "stream",
     "text": [
      "Missing percentage: 40%\n"
     ]
    },
    {
     "data": {
      "image/png": "[encoded data removed]",
      "text/plain": [
       "<Figure size 432x111.6 with 1 Axes>"
      ]
     },
     "metadata": {},
     "output_type": "display_data"
    },
    {
     "name": "stdout",
     "output_type": "stream",
     "text": [
      "Missing percentage: 50%\n"
     ]
    },
    {
     "data": {
      "image/png": "[encoded data removed]",
      "text/plain": [
       "<Figure size 432x111.6 with 1 Axes>"
      ]
     },
     "metadata": {},
     "output_type": "display_data"
    }
   ],
   "source": [
    "import Orange\n",
    "import matplotlib.pyplot as plt\n",
    "\n",
    "n_datasets = time_dfs[0].shape[0]\n",
    "\n",
    "for i in range(0, time_mean_rank.shape[0]):\n",
    "    avranks = time_mean_rank[methods_without_MEAN].iloc[i].values\n",
    "    cd = Orange.evaluation.compute_CD(avranks, n_datasets) #tested on 30 datasets\n",
    "    Orange.evaluation.graph_ranks(avranks, methods_without_MEAN, cd=cd, width=6, textspace=1.5)\n",
    "    print(\"Missing percentage: \" + str(time_mean_rank[\"miss_percentage\"].iloc[i]))\n",
    "    plt.savefig('plots/learning_time_' + str(time_mean_rank[\"miss_percentage\"].iloc[i]).replace(\"%\", \"\") + '.pdf')  \n",
    "    plt.show()"
   ]
  }
 ],
 "metadata": {
  "kernelspec": {
   "display_name": "Python 3",
   "language": "python",
   "name": "python3"
  },
  "language_info": {
   "codemirror_mode": {
    "name": "ipython",
    "version": 3
   },
   "file_extension": ".py",
   "mimetype": "text/x-python",
   "name": "python",
   "nbconvert_exporter": "python",
   "pygments_lexer": "ipython3",
   "version": "3.7.7"
  }
 },
 "nbformat": 4,
 "nbformat_minor": 4
}
